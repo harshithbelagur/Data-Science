{
 "cells": [
  {
   "cell_type": "code",
   "execution_count": 1,
   "metadata": {},
   "outputs": [],
   "source": [
    "import numpy as np\n",
    "import pandas as pd\n",
    "import matplotlib.pyplot as plt\n",
    "import math\n",
    "%matplotlib inline\n",
    "import warnings\n",
    "warnings.filterwarnings(\"ignore\")"
   ]
  },
  {
   "cell_type": "code",
   "execution_count": 2,
   "metadata": {},
   "outputs": [
    {
     "name": "stdout",
     "output_type": "stream",
     "text": [
      "Enter the file name: newdata1.txt\n"
     ]
    }
   ],
   "source": [
    "filename=input(\"Enter the file name: \")\n",
    "#newdata1.txt\n",
    "fd=open(filename,\"r\")\n",
    "c=fd.readlines()\n",
    "g=[]\n",
    "for i in c:\n",
    "    u=i.split(\" \")\n",
    "    u[len(u)-1]=u[len(u)-1][:-1]\n",
    "    g.append(u)"
   ]
  },
  {
   "cell_type": "code",
   "execution_count": 3,
   "metadata": {},
   "outputs": [],
   "source": [
    "#Assuming that the first row is column names\n",
    "h=g[0]\n",
    "g=g[1:]\n",
    "rows = len(g)\n",
    "\n",
    "def normalized(data):\n",
    "    b=(data-min(data))/(max(data)-min(data))\n",
    "    return b\n",
    "            \n",
    "train_size = int(rows*0.8)\n",
    "test_size = rows-train_size\n",
    "train=g[:train_size]\n",
    "test=g[train_size:]"
   ]
  },
  {
   "cell_type": "code",
   "execution_count": 4,
   "metadata": {},
   "outputs": [],
   "source": [
    "train_data=pd.DataFrame(train,columns=h)\n",
    "test_data=pd.DataFrame(test,columns=h)\n",
    "df=pd.DataFrame(g,columns=h)"
   ]
  },
  {
   "cell_type": "code",
   "execution_count": 5,
   "metadata": {},
   "outputs": [
    {
     "data": {
      "text/html": [
       "<div>\n",
       "<style scoped>\n",
       "    .dataframe tbody tr th:only-of-type {\n",
       "        vertical-align: middle;\n",
       "    }\n",
       "\n",
       "    .dataframe tbody tr th {\n",
       "        vertical-align: top;\n",
       "    }\n",
       "\n",
       "    .dataframe thead th {\n",
       "        text-align: right;\n",
       "    }\n",
       "</style>\n",
       "<table border=\"1\" class=\"dataframe\">\n",
       "  <thead>\n",
       "    <tr style=\"text-align: right;\">\n",
       "      <th></th>\n",
       "      <th>CRIM</th>\n",
       "      <th>ZN</th>\n",
       "      <th>INDUS</th>\n",
       "      <th>CHAS</th>\n",
       "      <th>NOX</th>\n",
       "      <th>RM</th>\n",
       "      <th>AGE</th>\n",
       "      <th>DIS</th>\n",
       "      <th>RAD</th>\n",
       "      <th>TAX</th>\n",
       "      <th>PTRATIO</th>\n",
       "      <th>B</th>\n",
       "      <th>LSTAT</th>\n",
       "      <th>MEDV</th>\n",
       "    </tr>\n",
       "  </thead>\n",
       "  <tbody>\n",
       "    <tr>\n",
       "      <td>0</td>\n",
       "      <td>0.00632</td>\n",
       "      <td>18</td>\n",
       "      <td>2.31</td>\n",
       "      <td>0</td>\n",
       "      <td>0.538</td>\n",
       "      <td>6.575</td>\n",
       "      <td>65.2</td>\n",
       "      <td>4.09</td>\n",
       "      <td>1</td>\n",
       "      <td>296</td>\n",
       "      <td>15.3</td>\n",
       "      <td>396.9</td>\n",
       "      <td>4.98</td>\n",
       "      <td>24</td>\n",
       "    </tr>\n",
       "    <tr>\n",
       "      <td>1</td>\n",
       "      <td>0.02731</td>\n",
       "      <td>0</td>\n",
       "      <td>7.07</td>\n",
       "      <td>0</td>\n",
       "      <td>0.469</td>\n",
       "      <td>6.421</td>\n",
       "      <td>78.9</td>\n",
       "      <td>4.9671</td>\n",
       "      <td>2</td>\n",
       "      <td>242</td>\n",
       "      <td>17.8</td>\n",
       "      <td>396.9</td>\n",
       "      <td>9.14</td>\n",
       "      <td>21.6</td>\n",
       "    </tr>\n",
       "    <tr>\n",
       "      <td>2</td>\n",
       "      <td>0.02729</td>\n",
       "      <td>0</td>\n",
       "      <td>7.07</td>\n",
       "      <td>0</td>\n",
       "      <td>0.469</td>\n",
       "      <td>7.185</td>\n",
       "      <td>61.1</td>\n",
       "      <td>4.9671</td>\n",
       "      <td>2</td>\n",
       "      <td>242</td>\n",
       "      <td>17.8</td>\n",
       "      <td>392.83</td>\n",
       "      <td>4.03</td>\n",
       "      <td>34.7</td>\n",
       "    </tr>\n",
       "    <tr>\n",
       "      <td>3</td>\n",
       "      <td>0.03237</td>\n",
       "      <td>0</td>\n",
       "      <td>2.18</td>\n",
       "      <td>0</td>\n",
       "      <td>0.458</td>\n",
       "      <td>6.998</td>\n",
       "      <td>45.8</td>\n",
       "      <td>6.0622</td>\n",
       "      <td>3</td>\n",
       "      <td>222</td>\n",
       "      <td>18.7</td>\n",
       "      <td>394.63</td>\n",
       "      <td>2.94</td>\n",
       "      <td>33.4</td>\n",
       "    </tr>\n",
       "    <tr>\n",
       "      <td>4</td>\n",
       "      <td>0.02985</td>\n",
       "      <td>0</td>\n",
       "      <td>2.18</td>\n",
       "      <td>0</td>\n",
       "      <td>0.458</td>\n",
       "      <td>6.43</td>\n",
       "      <td>58.7</td>\n",
       "      <td>6.0622</td>\n",
       "      <td>3</td>\n",
       "      <td>222</td>\n",
       "      <td>18.7</td>\n",
       "      <td>394.12</td>\n",
       "      <td>5.21</td>\n",
       "      <td>28.7</td>\n",
       "    </tr>\n",
       "  </tbody>\n",
       "</table>\n",
       "</div>"
      ],
      "text/plain": [
       "      CRIM  ZN INDUS CHAS    NOX     RM   AGE     DIS RAD  TAX PTRATIO  \\\n",
       "0  0.00632  18  2.31    0  0.538  6.575  65.2    4.09   1  296    15.3   \n",
       "1  0.02731   0  7.07    0  0.469  6.421  78.9  4.9671   2  242    17.8   \n",
       "2  0.02729   0  7.07    0  0.469  7.185  61.1  4.9671   2  242    17.8   \n",
       "3  0.03237   0  2.18    0  0.458  6.998  45.8  6.0622   3  222    18.7   \n",
       "4  0.02985   0  2.18    0  0.458   6.43  58.7  6.0622   3  222    18.7   \n",
       "\n",
       "        B LSTAT  MEDV  \n",
       "0   396.9  4.98    24  \n",
       "1   396.9  9.14  21.6  \n",
       "2  392.83  4.03  34.7  \n",
       "3  394.63  2.94  33.4  \n",
       "4  394.12  5.21  28.7  "
      ]
     },
     "execution_count": 5,
     "metadata": {},
     "output_type": "execute_result"
    }
   ],
   "source": [
    "df.head()"
   ]
  },
  {
   "cell_type": "code",
   "execution_count": 6,
   "metadata": {},
   "outputs": [],
   "source": [
    "def input_value(data1):\n",
    "    a=data1\n",
    "    b=np.array(a)\n",
    "    b=a.values.astype('float128')\n",
    "    c=normalized(b)\n",
    "    return b,c\n",
    "\n",
    "normal_train=[]\n",
    "normal_test=[]\n",
    "\n",
    "train=[]\n",
    "test=[]\n",
    "\n",
    "#Should not append targets into the training data\n",
    "k = h[len(h)-1]\n",
    "\n",
    "for i in range(len(h)):\n",
    "    if i is not len(h)-1:\n",
    "        u, v = input_value(train_data[h[i]])\n",
    "        train.append(u)\n",
    "        normal_train.append(v)\n",
    "        \n",
    "        u, v = input_value(test_data[h[i]])\n",
    "        test.append(u)\n",
    "        normal_test.append(v)\n",
    "        \n",
    "    else:\n",
    "        u, v = input_value(train_data[h[i]])\n",
    "        train_target=u\n",
    "        normal_train_target=v\n",
    "        \n",
    "        u, v = input_value(test_data[h[i]])\n",
    "        test_target=u\n",
    "        normal_test_target=v"
   ]
  },
  {
   "cell_type": "code",
   "execution_count": 7,
   "metadata": {},
   "outputs": [],
   "source": [
    "m = len(train_target)\n",
    "k = len(test_target)\n",
    "x0 = np.zeros(m)\n",
    "x1 = np.zeros(k)\n",
    "\n",
    "normal_X_train = np.array([x0])\n",
    "X_train = np.array([x0])\n",
    "normal_X_test = np.array([x1])\n",
    "X_test = np.array([x1])\n",
    "\n",
    "for i in range(len(h)-1):\n",
    "    b=np.array([train[i]])\n",
    "    X_train=np.append(X_train,b,axis=0)\n",
    "    b=np.array([test[i]])\n",
    "    X_test=np.append(X_test,b,axis=0)\n",
    "    b=np.array([normal_train[i]])\n",
    "    normal_X_train=np.append(normal_X_train,b,axis=0)\n",
    "    b=np.array([normal_test[i]])\n",
    "    normal_X_test=np.append(normal_X_test,b,axis=0)\n",
    "        \n",
    "# Initial Coefficients\n",
    "B = np.zeros(len(h))\n",
    "Y_train = np.array(train_target)\n",
    "Y_test = np.array(test_target)\n",
    "normal_Y_train = np.array(normal_train_target)\n",
    "normal_Y_test = np.array(normal_test_target)\n",
    "\n",
    "X_train=X_train.T\n",
    "X_test=X_test.T\n",
    "normal_X_train=normal_X_train.T\n",
    "normal_X_test=normal_X_test.T"
   ]
  },
  {
   "cell_type": "code",
   "execution_count": 8,
   "metadata": {},
   "outputs": [],
   "source": [
    "def cost_function(X, Y, B, lamda):\n",
    "    m = len(Y)\n",
    "    J = np.sum((X.dot(B) - Y) ** 2)/(2 * m) + (lamda/2)*B.dot(B.T)\n",
    "    return J"
   ]
  },
  {
   "cell_type": "code",
   "execution_count": 9,
   "metadata": {},
   "outputs": [],
   "source": [
    "def gradient_descent(X, Y, B, alpha, lamda):\n",
    "    cost_history = [0] * 1000\n",
    "    BList = [0] * 1000\n",
    "    m = len(Y)\n",
    "    for iteration in range(1000):\n",
    "        h = X.dot(B)\n",
    "        loss = h - Y\n",
    "        gradient = X.T.dot(loss) / m\n",
    "        B = B - alpha * gradient\n",
    "        cost = cost_function(X, Y, B, lamda)\n",
    "        cost_history[iteration] = cost\n",
    "        BList[iteration] = B\n",
    "#         Z=np.sum((X.dot(B) - Y) ** 2)/(2 * m) + (lamda/2)*B.dot(B.T)\n",
    "    return B, cost_history, BList"
   ]
  },
  {
   "cell_type": "code",
   "execution_count": 10,
   "metadata": {},
   "outputs": [],
   "source": [
    "def rmse(Y, Y_pred):\n",
    "    rmsed = np.sqrt(sum((Y - Y_pred) ** 2) / len(Y))\n",
    "    return rmsed\n",
    "\n",
    "def mae(Y, Y_pred):\n",
    "    maed = np.sum(abs(Y - Y_pred))/len(Y)\n",
    "    return maed"
   ]
  },
  {
   "cell_type": "code",
   "execution_count": 11,
   "metadata": {},
   "outputs": [],
   "source": [
    "def graph_plot(x_data, y_data, xl, yl, y, s, text=\"Default\", log=False):\n",
    "    new1=[]\n",
    "    new2=[]\n",
    "    for i in range(len(x_data)-1):\n",
    "        if str(x_data[i])==\"inf\" or str(x_data[i])==\"nan\":\n",
    "            x=5\n",
    "        else:\n",
    "            if log is True:\n",
    "                new1.append(math.log(x_data[i]))\n",
    "            else:\n",
    "                new1.append(x_data[i])\n",
    "            new2.append((y_data[i]))\n",
    "\n",
    "    a=new1  \n",
    "    b=new2\n",
    "    new1=[]\n",
    "    new2=[]\n",
    "    for i in range(len(a)-1):\n",
    "        if str(a[i])==\"inf\" or str(a[i])==\"nan\":\n",
    "            x=5\n",
    "        else:\n",
    "            new1.append(a[i])\n",
    "            new2.append(b[i])\n",
    "            \n",
    "    if(len(x_data)==0 and len(y_data)==0):\n",
    "        print(\"Graph cannot be plotted\")\n",
    "    else:    \n",
    "        plt.plot(new2,new1)\n",
    "        plt.xlabel(xl)\n",
    "        plt.xlim(min(new2),max(new2))\n",
    "        plt.ylim(min(new1),max(new1))\n",
    "        plt.ylabel(yl)\n",
    "        plt.figtext(y,s,text)\n",
    "        plt.show()"
   ]
  },
  {
   "cell_type": "code",
   "execution_count": 12,
   "metadata": {},
   "outputs": [
    {
     "name": "stdout",
     "output_type": "stream",
     "text": [
      "Without Normalization - 331.1214920634920635\n",
      "With Normalization - 0.110320627082108563585\n"
     ]
    }
   ],
   "source": [
    "inital_cost = cost_function(X_train, Y_train, B ,0)\n",
    "print(\"Without Normalization - \"+str(inital_cost))\n",
    "inital_cost = cost_function(normal_X_train, normal_Y_train, B ,0)\n",
    "print(\"With Normalization - \"+str(inital_cost))"
   ]
  },
  {
   "cell_type": "code",
   "execution_count": 13,
   "metadata": {},
   "outputs": [
    {
     "name": "stdout",
     "output_type": "stream",
     "text": [
      "Min error is 30.934891088309028933\n",
      " \n"
     ]
    },
    {
     "data": {
      "image/png": "[encoded data removed]",
      "text/plain": [
       "<Figure size 432x288 with 1 Axes>"
      ]
     },
     "metadata": {
      "needs_background": "light"
     },
     "output_type": "display_data"
    }
   ],
   "source": [
    "outputs=[]\n",
    "alphas = [0.00000001,0.00000005,0.0000001,0.0000005,0.000001,0.000005,0.00001,\n",
    "          0.00005,0.0001,0.0005,0.001,0.005,0.01,0.05,0.1,0.5,1,5]\n",
    "lambdas = [0.001, 0.005, 0.01, 0.05, 0.1, 0.5, 0, 5, 10, 50]\n",
    "alphaerrors=[]\n",
    "lamdaerrors=[]\n",
    "\n",
    "#Cost VS Alpha (Without Normalization)\n",
    "\n",
    "for alpha in alphas:\n",
    "    newB, cost_history, S = gradient_descent(X_train, Y_train, B, alpha, 0.001)\n",
    "    Y_pred = X_test.dot(newB)\n",
    "    alphaerrors.append(cost_history[len(cost_history)-1])\n",
    "                \n",
    "minialpha1 = alphas[alphaerrors.index(min(alphaerrors))]      \n",
    "print(\"Min error is \"+str((min(alphaerrors))))\n",
    "print(\" \")\n",
    "        \n",
    "graph_plot(alphaerrors, alphas, \"Alpha\", \"log(Cost)\", 0.5, 0.8, \"Without Normalization - Alpha\", True) "
   ]
  },
  {
   "cell_type": "code",
   "execution_count": 14,
   "metadata": {},
   "outputs": [
    {
     "name": "stdout",
     "output_type": "stream",
     "text": [
      "Min error is 0.006001647079746333041\n",
      " \n"
     ]
    },
    {
     "data": {
      "image/png": "[encoded data removed]",
      "text/plain": [
       "<Figure size 432x288 with 1 Axes>"
      ]
     },
     "metadata": {
      "needs_background": "light"
     },
     "output_type": "display_data"
    }
   ],
   "source": [
    "#Cost VS Alpha (With Normalization)\n",
    "\n",
    "alphaerrors=[]\n",
    "\n",
    "for alpha in alphas:\n",
    "    newB, cost_history, D = gradient_descent(normal_X_train, normal_Y_train, B, alpha, 0.001)\n",
    "    normal_Y_pred = normal_X_test.dot(newB)\n",
    "    alphaerrors.append(cost_history[len(cost_history)-1])\n",
    "                \n",
    "minialpha2 = alphas[alphaerrors.index(min(alphaerrors))]      \n",
    "print(\"Min error is \"+str((min(alphaerrors))))\n",
    "print(\" \")\n",
    "        \n",
    "graph_plot(alphaerrors, alphas, \"Alpha\", \"Cost\", 0.5, 0.8, \"Normalized - Alpha\") "
   ]
  },
  {
   "cell_type": "code",
   "execution_count": 15,
   "metadata": {},
   "outputs": [
    {
     "name": "stdout",
     "output_type": "stream",
     "text": [
      "Min error is 30.934874551646225705\n",
      " \n"
     ]
    },
    {
     "data": {
      "image/png": "[encoded data removed]",
      "text/plain": [
       "<Figure size 432x288 with 1 Axes>"
      ]
     },
     "metadata": {
      "needs_background": "light"
     },
     "output_type": "display_data"
    }
   ],
   "source": [
    "#Cost VS Lamda (Without Normalization)\n",
    "\n",
    "for l in lambdas:\n",
    "        newB, cost_history, D = gradient_descent(X_train, Y_train, B, minialpha1, l)\n",
    "        Y_pred = X_test.dot(newB)\n",
    "        lamdaerrors.append(cost_history[len(cost_history)-1])\n",
    "        \n",
    "print(\"Min error is \"+str((min(lamdaerrors))))\n",
    "print(\" \")\n",
    "\n",
    "graph_plot(lamdaerrors, lambdas, \"Lamda\", \"log(Cost)\", 0.5, 0.8,\"Without Normalization - Lamda\", True) "
   ]
  },
  {
   "cell_type": "code",
   "execution_count": 16,
   "metadata": {},
   "outputs": [
    {
     "name": "stdout",
     "output_type": "stream",
     "text": [
      "Min error is 0.005539630083681654065\n",
      " \n"
     ]
    },
    {
     "data": {
      "image/png": "[encoded data removed]",
      "text/plain": [
       "<Figure size 432x288 with 1 Axes>"
      ]
     },
     "metadata": {
      "needs_background": "light"
     },
     "output_type": "display_data"
    }
   ],
   "source": [
    "#Cost VS Lamda (With Normalization)\n",
    "\n",
    "lamdaerrors=[]\n",
    "\n",
    "for l in lambdas:\n",
    "        newB, cost_history, D = gradient_descent(normal_X_train, normal_Y_train, B, minialpha2, l)\n",
    "        normal_Y_pred = normal_X_test.dot(newB)\n",
    "        lamdaerrors.append(cost_history[len(cost_history)-1])\n",
    "        \n",
    "print(\"Min error is \"+str((min(lamdaerrors))))\n",
    "print(\" \")\n",
    "\n",
    "graph_plot(lamdaerrors, lambdas, \"Lamda\", \"Cost\", 0.5, 0.8, \"Normalized - Lamda\") "
   ]
  },
  {
   "cell_type": "code",
   "execution_count": 17,
   "metadata": {},
   "outputs": [],
   "source": [
    "# b_0 = []\n",
    "# b_1 = []\n",
    "# for i in range(len(S)):\n",
    "#     if((str(S[i][0])!=\"inf\") and (str(S[i][0]) !=\"nan\")):\n",
    "#         if((str(S[i][1])!=\"inf\") and (str(S[i][1])!=\"nan\")):\n",
    "#             b_0.append(S[i][0])\n",
    "#             b_1.append(S[i][1])\n",
    "# b0=np.array([b_0],dtype='float128')\n",
    "# b1=np.array([b_1],dtype='float128')\n",
    "# B0,B1=np.meshgrid(b_0,b_1)\n",
    "# new_data=normal_X_train.T[:2]\n",
    "\n",
    "# C=[]\n",
    "# for i in range(len(B0)):\n",
    "#     E=[]\n",
    "#     for j in range(len(B0[i])):\n",
    "#         T=np.array([B0[i][j],B1[i][j]])\n",
    "# #         print(T)\n",
    "#         M=np.sum((new_data.T.dot(T) - normal_Y_train) ** 2)/(2 * len(normal_Y_train))\n",
    "#         E.append(M)\n",
    "#     C.append(E)\n",
    "\n",
    "# H=np.array(C,dtype='float128')\n",
    "# print(H)\n",
    "# #C=np.sum((new_data.T.dot(Q) - normal_Y_train) ** 2)/(2 * len(normal_Y_train))\n",
    "# # print(new_data.T.shape)\n",
    "# # print(Q.T.shape)\n",
    "# # print(Q)"
   ]
  },
  {
   "cell_type": "code",
   "execution_count": 18,
   "metadata": {},
   "outputs": [],
   "source": [
    "# print(B0.shape)\n",
    "# print(B1.shape)\n",
    "# print(H.shape)\n",
    "\n",
    "# plt.contour(B0, B1, H, 200, colors='red')\n",
    "# plt.xlim(-10000,100000)\n",
    "# plt.ylim(-10000,100000)\n",
    "# plt.show()"
   ]
  },
  {
   "cell_type": "code",
   "execution_count": null,
   "metadata": {},
   "outputs": [],
   "source": []
  }
 ],
 "metadata": {
  "kernelspec": {
   "display_name": "Python 3",
   "language": "python",
   "name": "python3"
  },
  "language_info": {
   "codemirror_mode": {
    "name": "ipython",
    "version": 3
   },
   "file_extension": ".py",
   "mimetype": "text/x-python",
   "name": "python",
   "nbconvert_exporter": "python",
   "pygments_lexer": "ipython3",
   "version": "3.7.4"
  }
 },
 "nbformat": 4,
 "nbformat_minor": 2
}
